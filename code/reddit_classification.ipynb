{
 "cells": [
  {
   "cell_type": "markdown",
   "metadata": {},
   "source": [
    "# Project 3: Web APIs & NLP"
   ]
  },
  {
   "cell_type": "markdown",
   "metadata": {},
   "source": [
    "## Problem Statement"
   ]
  },
  {
   "cell_type": "markdown",
   "metadata": {},
   "source": [
    "Is it feasible to use modeling to predict the original subreddit of a post? If so, which model performs best?"
   ]
  },
  {
   "cell_type": "markdown",
   "metadata": {},
   "source": [
    "## Executive Summary"
   ]
  },
  {
   "cell_type": "markdown",
   "metadata": {},
   "source": [
    "This project reads 5000 posts overall for the anime and manga subreddits, using two models to predict from which subreddit the posts came based on the title. First, a function is created to retrieve all the data. Then, the data set is manually cleaned to ensure as high accuracy as possible and care when handling the unique range in post characters within these subreddits. The two subreddits are combined into one data set, which is further cleaned by removing null values, replacing [removed] and [deleted] tags with empty stirngs, and a label column is created in preparation for modeling that distinguishes which subreddit a row is from.\n",
    "\n",
    "The reason anime and manga subreddits were chosen is because they are both distinct yet have noticeable overlap in topics. Anime is, for the most part, created based on manga, which makes these subreddits quite interesting to classify.\n",
    "\n",
    "Exploratory data analysis and preprocessing are handled via a WordCloud visual to show the word range, indicating prevalent words that can be attributed to one of the two subreddits. In addition, a plot of the top 10 words and their frequencies is displayed. RegExpTokenizer is utilized to manually tokenize title and post columns. Then, tokens are lemmatized to reduce verbs and improve accuracy even further. Stemming was attempted at some point but it was too strong of a tokenizing mechanism for this project. Preprocessing and lemmatizing functions were modified and mapped to the columns, looping back to join the tokenized data into a string form.\n",
    "\n",
    "Two models were tested: a basic LogisticRegression and a basic MultinomialNB, both with a CountVectorizer to further clean and process the data. To my surprise, the LogisticRegression proved to be more accurate, which I justify later within the project. I follow up by making conclusions and recommendations based on my findings. "
   ]
  },
  {
   "cell_type": "code",
   "execution_count": 135,
   "metadata": {},
   "outputs": [],
   "source": [
    "# Standards\n",
    "import pandas as pd\n",
    "import numpy as np\n",
    "\n",
    "# API\n",
    "import requests\n",
    "\n",
    "# Automating\n",
    "import time\n",
    "import datetime\n",
    "import warnings\n",
    "import sys\n",
    "from time import sleep\n",
    "\n",
    "# Visuals\n",
    "import missingno as msno\n",
    "import matplotlib.pyplot as plt\n",
    "from wordcloud import WordCloud, STOPWORDS\n",
    "\n",
    "# Modeling\n",
    "from sklearn.model_selection import GridSearchCV, train_test_split, cross_val_score\n",
    "from sklearn.linear_model import LogisticRegression\n",
    "from sklearn.feature_extraction.text import CountVectorizer, TfidfVectorizer\n",
    "from sklearn.naive_bayes import MultinomialNB\n",
    "from sklearn.pipeline import make_pipeline\n",
    "from sklearn.metrics import plot_confusion_matrix\n",
    "\n",
    "# Data Cleaning\n",
    "import nltk\n",
    "import re, string, unicodedata\n",
    "from nltk.stem import WordNetLemmatizer, LancasterStemmer\n",
    "from nltk.stem.porter import PorterStemmer\n",
    "from nltk.tokenize import sent_tokenize, word_tokenize, RegexpTokenizer\n",
    "from nltk.corpus import stopwords"
   ]
  },
  {
   "cell_type": "markdown",
   "metadata": {},
   "source": [
    "### Data Import and Cleaning"
   ]
  },
  {
   "cell_type": "code",
   "execution_count": 2,
   "metadata": {},
   "outputs": [],
   "source": [
    "url = 'https://api.pushshift.io/reddit/search/submission/?subreddit='"
   ]
  },
  {
   "cell_type": "code",
   "execution_count": 9,
   "metadata": {
    "collapsed": true,
    "jupyter": {
     "outputs_hidden": true
    }
   },
   "outputs": [
    {
     "name": "stdout",
     "output_type": "stream",
     "text": [
      "all_awardings\n",
      "allow_live_comments\n",
      "author\n",
      "author_flair_css_class\n",
      "author_flair_richtext\n",
      "author_flair_text\n",
      "author_flair_type\n",
      "author_fullname\n",
      "author_patreon_flair\n",
      "author_premium\n",
      "awarders\n",
      "can_mod_post\n",
      "content_categories\n",
      "contest_mode\n",
      "created_utc\n",
      "domain\n",
      "full_link\n",
      "gildings\n",
      "id\n",
      "is_crosspostable\n",
      "is_meta\n",
      "is_original_content\n",
      "is_reddit_media_domain\n",
      "is_robot_indexable\n",
      "is_self\n",
      "is_video\n",
      "link_flair_background_color\n",
      "link_flair_css_class\n",
      "link_flair_richtext\n",
      "link_flair_template_id\n",
      "link_flair_text\n",
      "link_flair_text_color\n",
      "link_flair_type\n",
      "locked\n",
      "media_only\n",
      "no_follow\n",
      "num_comments\n",
      "num_crossposts\n",
      "over_18\n",
      "parent_whitelist_status\n",
      "permalink\n",
      "pinned\n",
      "pwls\n",
      "retrieved_on\n",
      "score\n",
      "selftext\n",
      "send_replies\n",
      "spoiler\n",
      "stickied\n",
      "subreddit\n",
      "subreddit_id\n",
      "subreddit_subscribers\n",
      "subreddit_type\n",
      "thumbnail\n",
      "title\n",
      "total_awards_received\n",
      "treatment_tags\n",
      "upvote_ratio\n",
      "url\n",
      "whitelist_status\n",
      "wls\n",
      "post_hint\n",
      "preview\n",
      "thumbnail_height\n",
      "thumbnail_width\n",
      "url_overridden_by_dest\n",
      "media\n",
      "media_embed\n",
      "removed_by_category\n",
      "secure_media\n",
      "secure_media_embed\n",
      "author_flair_background_color\n",
      "author_flair_template_id\n",
      "author_flair_text_color\n",
      "media_metadata\n"
     ]
    }
   ],
   "source": [
    "# Previewing columns of Pushshift API\n",
    "for _ in df_anime.columns:\n",
    "    print (_)"
   ]
  },
  {
   "cell_type": "code",
   "execution_count": 13,
   "metadata": {},
   "outputs": [],
   "source": [
    "def get_posts(subreddit, n_iter, epoch_right_now): # subreddit name and number of times function should run\n",
    "    # store base url variable\n",
    "    base_url = 'https://api.pushshift.io/reddit/search/submission/?subreddit='\n",
    "\n",
    "    # instantiate empty list    \n",
    "    df_list = []\n",
    "    \n",
    "    # save current epoch, used to iterate in reverse through time\n",
    "    current_time = epoch_right_now\n",
    "    \n",
    "    # set up for loop\n",
    "    for post in range(n_iter):\n",
    "        \n",
    "        # instantiate get request\n",
    "        res = requests.get(\n",
    "            \n",
    "            # requests.get takes base_url and params\n",
    "            base_url,\n",
    "            \n",
    "            # parameters for get request\n",
    "            params = {\n",
    "                \n",
    "                # specify subreddit\n",
    "                'subreddit' : subreddit,\n",
    "                \n",
    "                # specify number of posts to pull\n",
    "                'size' : 100,\n",
    "                \n",
    "                # ???\n",
    "                'lang' : True,\n",
    "                \n",
    "                # pull everything from current time backward\n",
    "                'before' : current_time }\n",
    "        )\n",
    "        \n",
    "        # take data from most recent request, store as df\n",
    "        df = pd.DataFrame(res.json()['data'])\n",
    "        \n",
    "        # pull specific columns from dataframe for analysis\n",
    "        df = df.loc[:, ['title',\n",
    "                        'created_utc', \n",
    "                        'selftext',\n",
    "                        'subreddit',\n",
    "                        'author',\n",
    "                        'media_only',\n",
    "                        'permalink']]\n",
    "        \n",
    "        # append to empty dataframe list\n",
    "        df_list.append(df)\n",
    "        \n",
    "        # add wait time\n",
    "        time.sleep(2)\n",
    "        \n",
    "        # set current time counter back to last epoch in recently grabbed df\n",
    "        current_time = df['created_utc'].min()\n",
    "\n",
    "    # return one dataframe for all requests\n",
    "    return pd.concat(df_list, axis=0)\n",
    "\n",
    "# Adapated from Tim Book's Lesson Example"
   ]
  },
  {
   "cell_type": "code",
   "execution_count": 14,
   "metadata": {},
   "outputs": [],
   "source": [
    "# Calling function to collect 2500 posts from anime subreddit\n",
    "anime = get_posts('anime',25,1601390824)"
   ]
  },
  {
   "cell_type": "code",
   "execution_count": 15,
   "metadata": {},
   "outputs": [
    {
     "data": {
      "text/plain": [
       "(2500, 7)"
      ]
     },
     "execution_count": 15,
     "metadata": {},
     "output_type": "execute_result"
    }
   ],
   "source": [
    "anime.shape"
   ]
  },
  {
   "cell_type": "code",
   "execution_count": 16,
   "metadata": {},
   "outputs": [],
   "source": [
    "# Calling function to collect 2500 posts from manga subreddit\n",
    "manga = get_posts('manga',25,1601390824)"
   ]
  },
  {
   "cell_type": "code",
   "execution_count": 17,
   "metadata": {},
   "outputs": [
    {
     "data": {
      "text/plain": [
       "(2500, 7)"
      ]
     },
     "execution_count": 17,
     "metadata": {},
     "output_type": "execute_result"
    }
   ],
   "source": [
    "manga.shape"
   ]
  },
  {
   "cell_type": "code",
   "execution_count": 18,
   "metadata": {},
   "outputs": [
    {
     "data": {
      "text/html": [
       "<div>\n",
       "<style scoped>\n",
       "    .dataframe tbody tr th:only-of-type {\n",
       "        vertical-align: middle;\n",
       "    }\n",
       "\n",
       "    .dataframe tbody tr th {\n",
       "        vertical-align: top;\n",
       "    }\n",
       "\n",
       "    .dataframe thead th {\n",
       "        text-align: right;\n",
       "    }\n",
       "</style>\n",
       "<table border=\"1\" class=\"dataframe\">\n",
       "  <thead>\n",
       "    <tr style=\"text-align: right;\">\n",
       "      <th></th>\n",
       "      <th>title</th>\n",
       "      <th>created_utc</th>\n",
       "      <th>selftext</th>\n",
       "      <th>subreddit</th>\n",
       "      <th>author</th>\n",
       "      <th>media_only</th>\n",
       "      <th>permalink</th>\n",
       "    </tr>\n",
       "  </thead>\n",
       "  <tbody>\n",
       "    <tr>\n",
       "      <th>0</th>\n",
       "      <td>Is there a Manga with a paraplegic as the main...</td>\n",
       "      <td>1601390572</td>\n",
       "      <td>I'm curious</td>\n",
       "      <td>manga</td>\n",
       "      <td>ComradKenobi</td>\n",
       "      <td>False</td>\n",
       "      <td>/r/manga/comments/j20j4d/is_there_a_manga_with...</td>\n",
       "    </tr>\n",
       "    <tr>\n",
       "      <th>1</th>\n",
       "      <td>Is there a manga with a paraplegic as a main c...</td>\n",
       "      <td>1601390521</td>\n",
       "      <td>I'm curious</td>\n",
       "      <td>manga</td>\n",
       "      <td>ComradKenobi</td>\n",
       "      <td>False</td>\n",
       "      <td>/r/manga/comments/j20ijm/is_there_a_manga_with...</td>\n",
       "    </tr>\n",
       "    <tr>\n",
       "      <th>2</th>\n",
       "      <td>Manga&amp;gt;&amp;gt;&amp;gt;&amp;gt;anime.</td>\n",
       "      <td>1601390414</td>\n",
       "      <td></td>\n",
       "      <td>manga</td>\n",
       "      <td>AxelXIV</td>\n",
       "      <td>False</td>\n",
       "      <td>/r/manga/comments/j20hc6/mangaanime/</td>\n",
       "    </tr>\n",
       "    <tr>\n",
       "      <th>3</th>\n",
       "      <td>[DISC] Shaman King: Marcos Vol. 1 Ch. 3 - Chan...</td>\n",
       "      <td>1601390163</td>\n",
       "      <td></td>\n",
       "      <td>manga</td>\n",
       "      <td>SenorNoobnerd</td>\n",
       "      <td>False</td>\n",
       "      <td>/r/manga/comments/j20ehw/disc_shaman_king_marc...</td>\n",
       "    </tr>\n",
       "    <tr>\n",
       "      <th>4</th>\n",
       "      <td>Manga Recommendations</td>\n",
       "      <td>1601389678</td>\n",
       "      <td>I like Comedy/School Life/Slice of life Manga....</td>\n",
       "      <td>manga</td>\n",
       "      <td>Zeromuya_Yato</td>\n",
       "      <td>False</td>\n",
       "      <td>/r/manga/comments/j208zx/manga_recommendations/</td>\n",
       "    </tr>\n",
       "  </tbody>\n",
       "</table>\n",
       "</div>"
      ],
      "text/plain": [
       "                                               title  created_utc  \\\n",
       "0  Is there a Manga with a paraplegic as the main...   1601390572   \n",
       "1  Is there a manga with a paraplegic as a main c...   1601390521   \n",
       "2                        Manga&gt;&gt;&gt;&gt;anime.   1601390414   \n",
       "3  [DISC] Shaman King: Marcos Vol. 1 Ch. 3 - Chan...   1601390163   \n",
       "4                              Manga Recommendations   1601389678   \n",
       "\n",
       "                                            selftext subreddit         author  \\\n",
       "0                                        I'm curious     manga   ComradKenobi   \n",
       "1                                        I'm curious     manga   ComradKenobi   \n",
       "2                                                        manga        AxelXIV   \n",
       "3                                                        manga  SenorNoobnerd   \n",
       "4  I like Comedy/School Life/Slice of life Manga....     manga  Zeromuya_Yato   \n",
       "\n",
       "   media_only                                          permalink  \n",
       "0       False  /r/manga/comments/j20j4d/is_there_a_manga_with...  \n",
       "1       False  /r/manga/comments/j20ijm/is_there_a_manga_with...  \n",
       "2       False               /r/manga/comments/j20hc6/mangaanime/  \n",
       "3       False  /r/manga/comments/j20ehw/disc_shaman_king_marc...  \n",
       "4       False    /r/manga/comments/j208zx/manga_recommendations/  "
      ]
     },
     "execution_count": 18,
     "metadata": {},
     "output_type": "execute_result"
    }
   ],
   "source": [
    "manga.head()"
   ]
  },
  {
   "cell_type": "code",
   "execution_count": 19,
   "metadata": {},
   "outputs": [
    {
     "data": {
      "text/plain": [
       "anime    2500\n",
       "manga    2500\n",
       "Name: subreddit, dtype: int64"
      ]
     },
     "execution_count": 19,
     "metadata": {},
     "output_type": "execute_result"
    }
   ],
   "source": [
    "# Combine anime and manga subreddit data into one DataFrame for efficient cleaning\n",
    "anime_manga = pd.concat([anime, manga])\n",
    "anime_manga['subreddit'].value_counts()"
   ]
  },
  {
   "cell_type": "code",
   "execution_count": 20,
   "metadata": {},
   "outputs": [
    {
     "data": {
      "text/html": [
       "<div>\n",
       "<style scoped>\n",
       "    .dataframe tbody tr th:only-of-type {\n",
       "        vertical-align: middle;\n",
       "    }\n",
       "\n",
       "    .dataframe tbody tr th {\n",
       "        vertical-align: top;\n",
       "    }\n",
       "\n",
       "    .dataframe thead th {\n",
       "        text-align: right;\n",
       "    }\n",
       "</style>\n",
       "<table border=\"1\" class=\"dataframe\">\n",
       "  <thead>\n",
       "    <tr style=\"text-align: right;\">\n",
       "      <th></th>\n",
       "      <th>title</th>\n",
       "      <th>created_utc</th>\n",
       "      <th>selftext</th>\n",
       "      <th>subreddit</th>\n",
       "      <th>author</th>\n",
       "      <th>media_only</th>\n",
       "      <th>permalink</th>\n",
       "    </tr>\n",
       "  </thead>\n",
       "  <tbody>\n",
       "    <tr>\n",
       "      <th>0</th>\n",
       "      <td>I wanna cry. This is my first proper anime jou...</td>\n",
       "      <td>1601390609</td>\n",
       "      <td></td>\n",
       "      <td>anime</td>\n",
       "      <td>marsy_what_s_up</td>\n",
       "      <td>False</td>\n",
       "      <td>/r/anime/comments/j20jk7/i_wanna_cry_this_is_m...</td>\n",
       "    </tr>\n",
       "    <tr>\n",
       "      <th>1</th>\n",
       "      <td>ios 14 anime theme ( ^ω^ )</td>\n",
       "      <td>1601390323</td>\n",
       "      <td></td>\n",
       "      <td>anime</td>\n",
       "      <td>deluxeconan</td>\n",
       "      <td>False</td>\n",
       "      <td>/r/anime/comments/j20gcx/ios_14_anime_theme_ω/</td>\n",
       "    </tr>\n",
       "  </tbody>\n",
       "</table>\n",
       "</div>"
      ],
      "text/plain": [
       "                                               title  created_utc selftext  \\\n",
       "0  I wanna cry. This is my first proper anime jou...   1601390609            \n",
       "1                         ios 14 anime theme ( ^ω^ )   1601390323            \n",
       "\n",
       "  subreddit           author  media_only  \\\n",
       "0     anime  marsy_what_s_up       False   \n",
       "1     anime      deluxeconan       False   \n",
       "\n",
       "                                           permalink  \n",
       "0  /r/anime/comments/j20jk7/i_wanna_cry_this_is_m...  \n",
       "1     /r/anime/comments/j20gcx/ios_14_anime_theme_ω/  "
      ]
     },
     "execution_count": 20,
     "metadata": {},
     "output_type": "execute_result"
    }
   ],
   "source": [
    "anime_manga.head(2)"
   ]
  },
  {
   "cell_type": "code",
   "execution_count": 21,
   "metadata": {},
   "outputs": [
    {
     "data": {
      "text/html": [
       "<div>\n",
       "<style scoped>\n",
       "    .dataframe tbody tr th:only-of-type {\n",
       "        vertical-align: middle;\n",
       "    }\n",
       "\n",
       "    .dataframe tbody tr th {\n",
       "        vertical-align: top;\n",
       "    }\n",
       "\n",
       "    .dataframe thead th {\n",
       "        text-align: right;\n",
       "    }\n",
       "</style>\n",
       "<table border=\"1\" class=\"dataframe\">\n",
       "  <thead>\n",
       "    <tr style=\"text-align: right;\">\n",
       "      <th></th>\n",
       "      <th>title</th>\n",
       "      <th>created_utc</th>\n",
       "      <th>selftext</th>\n",
       "      <th>subreddit</th>\n",
       "      <th>author</th>\n",
       "      <th>media_only</th>\n",
       "      <th>permalink</th>\n",
       "    </tr>\n",
       "  </thead>\n",
       "  <tbody>\n",
       "    <tr>\n",
       "      <th>98</th>\n",
       "      <td>A rookie mangaka named Takeshi Yumesaki made a...</td>\n",
       "      <td>1600689703</td>\n",
       "      <td></td>\n",
       "      <td>manga</td>\n",
       "      <td>trover2345325</td>\n",
       "      <td>False</td>\n",
       "      <td>/r/manga/comments/iwz1hl/a_rookie_mangaka_name...</td>\n",
       "    </tr>\n",
       "    <tr>\n",
       "      <th>99</th>\n",
       "      <td>[DISC] The Lady's Law of Survival CHAPTER 7</td>\n",
       "      <td>1600688636</td>\n",
       "      <td></td>\n",
       "      <td>manga</td>\n",
       "      <td>Xixth</td>\n",
       "      <td>False</td>\n",
       "      <td>/r/manga/comments/iwysdp/disc_the_ladys_law_of...</td>\n",
       "    </tr>\n",
       "  </tbody>\n",
       "</table>\n",
       "</div>"
      ],
      "text/plain": [
       "                                                title  created_utc selftext  \\\n",
       "98  A rookie mangaka named Takeshi Yumesaki made a...   1600689703            \n",
       "99        [DISC] The Lady's Law of Survival CHAPTER 7   1600688636            \n",
       "\n",
       "   subreddit         author  media_only  \\\n",
       "98     manga  trover2345325       False   \n",
       "99     manga          Xixth       False   \n",
       "\n",
       "                                            permalink  \n",
       "98  /r/manga/comments/iwz1hl/a_rookie_mangaka_name...  \n",
       "99  /r/manga/comments/iwysdp/disc_the_ladys_law_of...  "
      ]
     },
     "execution_count": 21,
     "metadata": {},
     "output_type": "execute_result"
    }
   ],
   "source": [
    "anime_manga.tail(2)"
   ]
  },
  {
   "cell_type": "code",
   "execution_count": 22,
   "metadata": {},
   "outputs": [
    {
     "name": "stdout",
     "output_type": "stream",
     "text": [
      "<class 'pandas.core.frame.DataFrame'>\n",
      "Int64Index: 5000 entries, 0 to 99\n",
      "Data columns (total 7 columns):\n",
      " #   Column       Non-Null Count  Dtype \n",
      "---  ------       --------------  ----- \n",
      " 0   title        5000 non-null   object\n",
      " 1   created_utc  5000 non-null   int64 \n",
      " 2   selftext     4994 non-null   object\n",
      " 3   subreddit    5000 non-null   object\n",
      " 4   author       5000 non-null   object\n",
      " 5   media_only   5000 non-null   bool  \n",
      " 6   permalink    5000 non-null   object\n",
      "dtypes: bool(1), int64(1), object(5)\n",
      "memory usage: 278.3+ KB\n"
     ]
    }
   ],
   "source": [
    "anime_manga.info()"
   ]
  },
  {
   "cell_type": "code",
   "execution_count": 23,
   "metadata": {},
   "outputs": [
    {
     "data": {
      "text/plain": [
       "title          0\n",
       "created_utc    0\n",
       "selftext       6\n",
       "subreddit      0\n",
       "author         0\n",
       "media_only     0\n",
       "permalink      0\n",
       "dtype: int64"
      ]
     },
     "execution_count": 23,
     "metadata": {},
     "output_type": "execute_result"
    }
   ],
   "source": [
    "# Checking nulls\n",
    "anime_manga.isna().sum()"
   ]
  },
  {
   "cell_type": "code",
   "execution_count": 24,
   "metadata": {},
   "outputs": [],
   "source": [
    "# Assuming null in selftext is empty posts, replace with empty string\n",
    "anime_manga = anime_manga.fillna('')"
   ]
  },
  {
   "cell_type": "code",
   "execution_count": 25,
   "metadata": {},
   "outputs": [],
   "source": [
    "# Drop unneeded columns\n",
    "anime_manga = anime_manga.drop('media_only', axis = 1)"
   ]
  },
  {
   "cell_type": "code",
   "execution_count": 26,
   "metadata": {},
   "outputs": [],
   "source": [
    "anime_manga = anime_manga.drop('permalink', axis = 1)"
   ]
  },
  {
   "cell_type": "code",
   "execution_count": 27,
   "metadata": {},
   "outputs": [
    {
     "data": {
      "image/png": "[encoded data removed]",
      "text/plain": [
       "<Figure size 1800x720 with 2 Axes>"
      ]
     },
     "metadata": {
      "needs_background": "light"
     },
     "output_type": "display_data"
    }
   ],
   "source": [
    "# Visualize NaNs\n",
    "msno.matrix(anime_manga);"
   ]
  },
  {
   "cell_type": "code",
   "execution_count": 28,
   "metadata": {},
   "outputs": [],
   "source": [
    "# Reset index due to earlier concatenation\n",
    "anime_manga = anime_manga.reset_index()"
   ]
  },
  {
   "cell_type": "code",
   "execution_count": 29,
   "metadata": {},
   "outputs": [],
   "source": [
    "# Rename selftext to post\n",
    "anime_manga.rename(columns={'selftext': 'post'},inplace=True)"
   ]
  },
  {
   "cell_type": "code",
   "execution_count": 30,
   "metadata": {},
   "outputs": [
    {
     "data": {
      "text/html": [
       "<div>\n",
       "<style scoped>\n",
       "    .dataframe tbody tr th:only-of-type {\n",
       "        vertical-align: middle;\n",
       "    }\n",
       "\n",
       "    .dataframe tbody tr th {\n",
       "        vertical-align: top;\n",
       "    }\n",
       "\n",
       "    .dataframe thead th {\n",
       "        text-align: right;\n",
       "    }\n",
       "</style>\n",
       "<table border=\"1\" class=\"dataframe\">\n",
       "  <thead>\n",
       "    <tr style=\"text-align: right;\">\n",
       "      <th></th>\n",
       "      <th>index</th>\n",
       "      <th>title</th>\n",
       "      <th>created_utc</th>\n",
       "      <th>post</th>\n",
       "      <th>subreddit</th>\n",
       "      <th>author</th>\n",
       "    </tr>\n",
       "  </thead>\n",
       "  <tbody>\n",
       "    <tr>\n",
       "      <th>4995</th>\n",
       "      <td>95</td>\n",
       "      <td>I made this coloring and i wanted to share it,...</td>\n",
       "      <td>1600690559</td>\n",
       "      <td></td>\n",
       "      <td>manga</td>\n",
       "      <td>Joe_Ikari</td>\n",
       "    </tr>\n",
       "    <tr>\n",
       "      <th>4996</th>\n",
       "      <td>96</td>\n",
       "      <td>I was bored and i gave color to this zero two ...</td>\n",
       "      <td>1600690462</td>\n",
       "      <td>[deleted]</td>\n",
       "      <td>manga</td>\n",
       "      <td>[deleted]</td>\n",
       "    </tr>\n",
       "    <tr>\n",
       "      <th>4997</th>\n",
       "      <td>97</td>\n",
       "      <td>[DISC] Ramia - Hero &amp;amp; Demon Lord Chronicle...</td>\n",
       "      <td>1600689756</td>\n",
       "      <td></td>\n",
       "      <td>manga</td>\n",
       "      <td>TGSmurf</td>\n",
       "    </tr>\n",
       "    <tr>\n",
       "      <th>4998</th>\n",
       "      <td>98</td>\n",
       "      <td>A rookie mangaka named Takeshi Yumesaki made a...</td>\n",
       "      <td>1600689703</td>\n",
       "      <td></td>\n",
       "      <td>manga</td>\n",
       "      <td>trover2345325</td>\n",
       "    </tr>\n",
       "    <tr>\n",
       "      <th>4999</th>\n",
       "      <td>99</td>\n",
       "      <td>[DISC] The Lady's Law of Survival CHAPTER 7</td>\n",
       "      <td>1600688636</td>\n",
       "      <td></td>\n",
       "      <td>manga</td>\n",
       "      <td>Xixth</td>\n",
       "    </tr>\n",
       "  </tbody>\n",
       "</table>\n",
       "</div>"
      ],
      "text/plain": [
       "      index                                              title  created_utc  \\\n",
       "4995     95  I made this coloring and i wanted to share it,...   1600690559   \n",
       "4996     96  I was bored and i gave color to this zero two ...   1600690462   \n",
       "4997     97  [DISC] Ramia - Hero &amp; Demon Lord Chronicle...   1600689756   \n",
       "4998     98  A rookie mangaka named Takeshi Yumesaki made a...   1600689703   \n",
       "4999     99        [DISC] The Lady's Law of Survival CHAPTER 7   1600688636   \n",
       "\n",
       "           post subreddit         author  \n",
       "4995                manga      Joe_Ikari  \n",
       "4996  [deleted]     manga      [deleted]  \n",
       "4997                manga        TGSmurf  \n",
       "4998                manga  trover2345325  \n",
       "4999                manga          Xixth  "
      ]
     },
     "execution_count": 30,
     "metadata": {},
     "output_type": "execute_result"
    }
   ],
   "source": [
    "anime_manga.tail()"
   ]
  },
  {
   "cell_type": "code",
   "execution_count": 31,
   "metadata": {},
   "outputs": [],
   "source": [
    "# Drop old index column\n",
    "anime_manga = anime_manga.drop('index', axis = 1)"
   ]
  },
  {
   "cell_type": "code",
   "execution_count": 32,
   "metadata": {},
   "outputs": [
    {
     "data": {
      "text/html": [
       "<div>\n",
       "<style scoped>\n",
       "    .dataframe tbody tr th:only-of-type {\n",
       "        vertical-align: middle;\n",
       "    }\n",
       "\n",
       "    .dataframe tbody tr th {\n",
       "        vertical-align: top;\n",
       "    }\n",
       "\n",
       "    .dataframe thead th {\n",
       "        text-align: right;\n",
       "    }\n",
       "</style>\n",
       "<table border=\"1\" class=\"dataframe\">\n",
       "  <thead>\n",
       "    <tr style=\"text-align: right;\">\n",
       "      <th></th>\n",
       "      <th>title</th>\n",
       "      <th>created_utc</th>\n",
       "      <th>post</th>\n",
       "      <th>subreddit</th>\n",
       "      <th>author</th>\n",
       "    </tr>\n",
       "  </thead>\n",
       "  <tbody>\n",
       "    <tr>\n",
       "      <th>0</th>\n",
       "      <td>I wanna cry. This is my first proper anime jou...</td>\n",
       "      <td>1601390609</td>\n",
       "      <td></td>\n",
       "      <td>anime</td>\n",
       "      <td>marsy_what_s_up</td>\n",
       "    </tr>\n",
       "    <tr>\n",
       "      <th>1</th>\n",
       "      <td>ios 14 anime theme ( ^ω^ )</td>\n",
       "      <td>1601390323</td>\n",
       "      <td></td>\n",
       "      <td>anime</td>\n",
       "      <td>deluxeconan</td>\n",
       "    </tr>\n",
       "    <tr>\n",
       "      <th>2</th>\n",
       "      <td>Upcoming Fall 2020 Anime You Need to WATCH</td>\n",
       "      <td>1601390279</td>\n",
       "      <td></td>\n",
       "      <td>anime</td>\n",
       "      <td>animenewsupdates</td>\n",
       "    </tr>\n",
       "    <tr>\n",
       "      <th>3</th>\n",
       "      <td>im kind of having an identity crisis rn plz help</td>\n",
       "      <td>1601389966</td>\n",
       "      <td>ok so i was thinking about how there are 3 pri...</td>\n",
       "      <td>anime</td>\n",
       "      <td>Aclover69</td>\n",
       "    </tr>\n",
       "    <tr>\n",
       "      <th>4</th>\n",
       "      <td>Sauce for this character..? Please help, /Anime</td>\n",
       "      <td>1601389834</td>\n",
       "      <td>Who knows [this anime-style character](https:/...</td>\n",
       "      <td>anime</td>\n",
       "      <td>stuck_key</td>\n",
       "    </tr>\n",
       "  </tbody>\n",
       "</table>\n",
       "</div>"
      ],
      "text/plain": [
       "                                               title  created_utc  \\\n",
       "0  I wanna cry. This is my first proper anime jou...   1601390609   \n",
       "1                         ios 14 anime theme ( ^ω^ )   1601390323   \n",
       "2         Upcoming Fall 2020 Anime You Need to WATCH   1601390279   \n",
       "3   im kind of having an identity crisis rn plz help   1601389966   \n",
       "4    Sauce for this character..? Please help, /Anime   1601389834   \n",
       "\n",
       "                                                post subreddit  \\\n",
       "0                                                        anime   \n",
       "1                                                        anime   \n",
       "2                                                        anime   \n",
       "3  ok so i was thinking about how there are 3 pri...     anime   \n",
       "4  Who knows [this anime-style character](https:/...     anime   \n",
       "\n",
       "             author  \n",
       "0   marsy_what_s_up  \n",
       "1       deluxeconan  \n",
       "2  animenewsupdates  \n",
       "3         Aclover69  \n",
       "4         stuck_key  "
      ]
     },
     "execution_count": 32,
     "metadata": {},
     "output_type": "execute_result"
    }
   ],
   "source": [
    "anime_manga.head()"
   ]
  },
  {
   "cell_type": "code",
   "execution_count": 33,
   "metadata": {},
   "outputs": [
    {
     "data": {
      "text/html": [
       "<div>\n",
       "<style scoped>\n",
       "    .dataframe tbody tr th:only-of-type {\n",
       "        vertical-align: middle;\n",
       "    }\n",
       "\n",
       "    .dataframe tbody tr th {\n",
       "        vertical-align: top;\n",
       "    }\n",
       "\n",
       "    .dataframe thead th {\n",
       "        text-align: right;\n",
       "    }\n",
       "</style>\n",
       "<table border=\"1\" class=\"dataframe\">\n",
       "  <thead>\n",
       "    <tr style=\"text-align: right;\">\n",
       "      <th></th>\n",
       "      <th>title</th>\n",
       "      <th>created_utc</th>\n",
       "      <th>post</th>\n",
       "      <th>subreddit</th>\n",
       "      <th>author</th>\n",
       "    </tr>\n",
       "  </thead>\n",
       "  <tbody>\n",
       "    <tr>\n",
       "      <th>12</th>\n",
       "      <td>About Higurashi...</td>\n",
       "      <td>1601389275</td>\n",
       "      <td>[removed]</td>\n",
       "      <td>anime</td>\n",
       "      <td>monkaydoodaa</td>\n",
       "    </tr>\n",
       "    <tr>\n",
       "      <th>13</th>\n",
       "      <td>Recommend Manga Please</td>\n",
       "      <td>1601389274</td>\n",
       "      <td>[removed]</td>\n",
       "      <td>anime</td>\n",
       "      <td>Zeromuya_Yato</td>\n",
       "    </tr>\n",
       "    <tr>\n",
       "      <th>27</th>\n",
       "      <td>Anime is gay and gives you corona~Hayao Miyazaki</td>\n",
       "      <td>1601387868</td>\n",
       "      <td>[removed]</td>\n",
       "      <td>anime</td>\n",
       "      <td>postingcringee</td>\n",
       "    </tr>\n",
       "    <tr>\n",
       "      <th>29</th>\n",
       "      <td>Unpopular opinion: Oregairu is kinda garbage</td>\n",
       "      <td>1601387708</td>\n",
       "      <td>[removed]</td>\n",
       "      <td>anime</td>\n",
       "      <td>Txkagi</td>\n",
       "    </tr>\n",
       "    <tr>\n",
       "      <th>57</th>\n",
       "      <td>One Piece</td>\n",
       "      <td>1601385146</td>\n",
       "      <td>[removed]</td>\n",
       "      <td>anime</td>\n",
       "      <td>sam_eone</td>\n",
       "    </tr>\n",
       "    <tr>\n",
       "      <th>59</th>\n",
       "      <td>is it important that i watch the noblese OVAs ...</td>\n",
       "      <td>1601384682</td>\n",
       "      <td>[removed]</td>\n",
       "      <td>anime</td>\n",
       "      <td>Ahmed-333</td>\n",
       "    </tr>\n",
       "    <tr>\n",
       "      <th>86</th>\n",
       "      <td>Streaming plateforme</td>\n",
       "      <td>1601378133</td>\n",
       "      <td>[removed]</td>\n",
       "      <td>anime</td>\n",
       "      <td>orcasifilus</td>\n",
       "    </tr>\n",
       "    <tr>\n",
       "      <th>93</th>\n",
       "      <td>anime recommend</td>\n",
       "      <td>1601376652</td>\n",
       "      <td>[removed]</td>\n",
       "      <td>anime</td>\n",
       "      <td>anime-lover123</td>\n",
       "    </tr>\n",
       "  </tbody>\n",
       "</table>\n",
       "</div>"
      ],
      "text/plain": [
       "                                                title  created_utc       post  \\\n",
       "12                                 About Higurashi...   1601389275  [removed]   \n",
       "13                             Recommend Manga Please   1601389274  [removed]   \n",
       "27   Anime is gay and gives you corona~Hayao Miyazaki   1601387868  [removed]   \n",
       "29       Unpopular opinion: Oregairu is kinda garbage   1601387708  [removed]   \n",
       "57                                          One Piece   1601385146  [removed]   \n",
       "59  is it important that i watch the noblese OVAs ...   1601384682  [removed]   \n",
       "86                               Streaming plateforme   1601378133  [removed]   \n",
       "93                                    anime recommend   1601376652  [removed]   \n",
       "\n",
       "   subreddit          author  \n",
       "12     anime    monkaydoodaa  \n",
       "13     anime   Zeromuya_Yato  \n",
       "27     anime  postingcringee  \n",
       "29     anime          Txkagi  \n",
       "57     anime        sam_eone  \n",
       "59     anime       Ahmed-333  \n",
       "86     anime     orcasifilus  \n",
       "93     anime  anime-lover123  "
      ]
     },
     "execution_count": 33,
     "metadata": {},
     "output_type": "execute_result"
    }
   ],
   "source": [
    "# Preview removed to see how it looks in dataset\n",
    "anime_manga[anime_manga['post'] == '[removed]'].head(8)"
   ]
  },
  {
   "cell_type": "code",
   "execution_count": 34,
   "metadata": {},
   "outputs": [],
   "source": [
    "# Replace removed and deleted in dataset with empty string\n",
    "anime_manga['post'] = anime_manga['post'].replace('[removed]', '')"
   ]
  },
  {
   "cell_type": "code",
   "execution_count": 35,
   "metadata": {},
   "outputs": [],
   "source": [
    "anime_manga['post'] = anime_manga['post'].replace('[deleted]', '')"
   ]
  },
  {
   "cell_type": "code",
   "execution_count": 36,
   "metadata": {},
   "outputs": [
    {
     "data": {
      "text/html": [
       "<div>\n",
       "<style scoped>\n",
       "    .dataframe tbody tr th:only-of-type {\n",
       "        vertical-align: middle;\n",
       "    }\n",
       "\n",
       "    .dataframe tbody tr th {\n",
       "        vertical-align: top;\n",
       "    }\n",
       "\n",
       "    .dataframe thead th {\n",
       "        text-align: right;\n",
       "    }\n",
       "</style>\n",
       "<table border=\"1\" class=\"dataframe\">\n",
       "  <thead>\n",
       "    <tr style=\"text-align: right;\">\n",
       "      <th></th>\n",
       "      <th>title</th>\n",
       "      <th>created_utc</th>\n",
       "      <th>post</th>\n",
       "      <th>subreddit</th>\n",
       "      <th>author</th>\n",
       "    </tr>\n",
       "  </thead>\n",
       "  <tbody>\n",
       "    <tr>\n",
       "      <th>2495</th>\n",
       "      <td>AOT S4</td>\n",
       "      <td>1601074228</td>\n",
       "      <td></td>\n",
       "      <td>anime</td>\n",
       "      <td>xPrinceofSaiyans</td>\n",
       "    </tr>\n",
       "    <tr>\n",
       "      <th>2496</th>\n",
       "      <td>I just got into anime and was wondering where ...</td>\n",
       "      <td>1601074211</td>\n",
       "      <td>I just started watching anime but I don’t have...</td>\n",
       "      <td>anime</td>\n",
       "      <td>sanslikeslolis</td>\n",
       "    </tr>\n",
       "    <tr>\n",
       "      <th>2497</th>\n",
       "      <td>What was the episode of Shokugeki No Soma wher...</td>\n",
       "      <td>1601073766</td>\n",
       "      <td>I wanna find it so I can get a recipe for the ...</td>\n",
       "      <td>anime</td>\n",
       "      <td>DelusionalDonut13</td>\n",
       "    </tr>\n",
       "    <tr>\n",
       "      <th>2498</th>\n",
       "      <td>Zoro vs Killer Full Fight (English Subbed)</td>\n",
       "      <td>1601073672</td>\n",
       "      <td></td>\n",
       "      <td>anime</td>\n",
       "      <td>ESWAGGER8</td>\n",
       "    </tr>\n",
       "    <tr>\n",
       "      <th>2499</th>\n",
       "      <td>Any popular show with universal agreement abou...</td>\n",
       "      <td>1601073297</td>\n",
       "      <td>I was thinking about this due to a comment in ...</td>\n",
       "      <td>anime</td>\n",
       "      <td>Emi_Ibarazakiii</td>\n",
       "    </tr>\n",
       "    <tr>\n",
       "      <th>2500</th>\n",
       "      <td>Is there a Manga with a paraplegic as the main...</td>\n",
       "      <td>1601390572</td>\n",
       "      <td>I'm curious</td>\n",
       "      <td>manga</td>\n",
       "      <td>ComradKenobi</td>\n",
       "    </tr>\n",
       "    <tr>\n",
       "      <th>2501</th>\n",
       "      <td>Is there a manga with a paraplegic as a main c...</td>\n",
       "      <td>1601390521</td>\n",
       "      <td>I'm curious</td>\n",
       "      <td>manga</td>\n",
       "      <td>ComradKenobi</td>\n",
       "    </tr>\n",
       "    <tr>\n",
       "      <th>2502</th>\n",
       "      <td>Manga&amp;gt;&amp;gt;&amp;gt;&amp;gt;anime.</td>\n",
       "      <td>1601390414</td>\n",
       "      <td></td>\n",
       "      <td>manga</td>\n",
       "      <td>AxelXIV</td>\n",
       "    </tr>\n",
       "    <tr>\n",
       "      <th>2503</th>\n",
       "      <td>[DISC] Shaman King: Marcos Vol. 1 Ch. 3 - Chan...</td>\n",
       "      <td>1601390163</td>\n",
       "      <td></td>\n",
       "      <td>manga</td>\n",
       "      <td>SenorNoobnerd</td>\n",
       "    </tr>\n",
       "    <tr>\n",
       "      <th>2504</th>\n",
       "      <td>Manga Recommendations</td>\n",
       "      <td>1601389678</td>\n",
       "      <td>I like Comedy/School Life/Slice of life Manga....</td>\n",
       "      <td>manga</td>\n",
       "      <td>Zeromuya_Yato</td>\n",
       "    </tr>\n",
       "    <tr>\n",
       "      <th>2505</th>\n",
       "      <td>[DISC] Does Love Need a Translation App? Ch. 2...</td>\n",
       "      <td>1601389673</td>\n",
       "      <td></td>\n",
       "      <td>manga</td>\n",
       "      <td>takemiHaruto</td>\n",
       "    </tr>\n",
       "  </tbody>\n",
       "</table>\n",
       "</div>"
      ],
      "text/plain": [
       "                                                  title  created_utc  \\\n",
       "2495                                             AOT S4   1601074228   \n",
       "2496  I just got into anime and was wondering where ...   1601074211   \n",
       "2497  What was the episode of Shokugeki No Soma wher...   1601073766   \n",
       "2498         Zoro vs Killer Full Fight (English Subbed)   1601073672   \n",
       "2499  Any popular show with universal agreement abou...   1601073297   \n",
       "2500  Is there a Manga with a paraplegic as the main...   1601390572   \n",
       "2501  Is there a manga with a paraplegic as a main c...   1601390521   \n",
       "2502                        Manga&gt;&gt;&gt;&gt;anime.   1601390414   \n",
       "2503  [DISC] Shaman King: Marcos Vol. 1 Ch. 3 - Chan...   1601390163   \n",
       "2504                              Manga Recommendations   1601389678   \n",
       "2505  [DISC] Does Love Need a Translation App? Ch. 2...   1601389673   \n",
       "\n",
       "                                                   post subreddit  \\\n",
       "2495                                                        anime   \n",
       "2496  I just started watching anime but I don’t have...     anime   \n",
       "2497  I wanna find it so I can get a recipe for the ...     anime   \n",
       "2498                                                        anime   \n",
       "2499  I was thinking about this due to a comment in ...     anime   \n",
       "2500                                        I'm curious     manga   \n",
       "2501                                        I'm curious     manga   \n",
       "2502                                                        manga   \n",
       "2503                                                        manga   \n",
       "2504  I like Comedy/School Life/Slice of life Manga....     manga   \n",
       "2505                                                        manga   \n",
       "\n",
       "                 author  \n",
       "2495   xPrinceofSaiyans  \n",
       "2496     sanslikeslolis  \n",
       "2497  DelusionalDonut13  \n",
       "2498          ESWAGGER8  \n",
       "2499    Emi_Ibarazakiii  \n",
       "2500       ComradKenobi  \n",
       "2501       ComradKenobi  \n",
       "2502            AxelXIV  \n",
       "2503      SenorNoobnerd  \n",
       "2504      Zeromuya_Yato  \n",
       "2505       takemiHaruto  "
      ]
     },
     "execution_count": 36,
     "metadata": {},
     "output_type": "execute_result"
    }
   ],
   "source": [
    "# Preview the point and surrounding data points where dataset goes from anime to manga subreddit\n",
    "anime_manga.loc[2495:2505]"
   ]
  },
  {
   "cell_type": "code",
   "execution_count": 37,
   "metadata": {},
   "outputs": [],
   "source": [
    "# Creating label column to distinguish subreddits\n",
    "anime_manga['label'] = 1"
   ]
  },
  {
   "cell_type": "code",
   "execution_count": 38,
   "metadata": {},
   "outputs": [
    {
     "data": {
      "text/html": [
       "<div>\n",
       "<style scoped>\n",
       "    .dataframe tbody tr th:only-of-type {\n",
       "        vertical-align: middle;\n",
       "    }\n",
       "\n",
       "    .dataframe tbody tr th {\n",
       "        vertical-align: top;\n",
       "    }\n",
       "\n",
       "    .dataframe thead th {\n",
       "        text-align: right;\n",
       "    }\n",
       "</style>\n",
       "<table border=\"1\" class=\"dataframe\">\n",
       "  <thead>\n",
       "    <tr style=\"text-align: right;\">\n",
       "      <th></th>\n",
       "      <th>title</th>\n",
       "      <th>created_utc</th>\n",
       "      <th>post</th>\n",
       "      <th>subreddit</th>\n",
       "      <th>author</th>\n",
       "      <th>label</th>\n",
       "    </tr>\n",
       "  </thead>\n",
       "  <tbody>\n",
       "    <tr>\n",
       "      <th>0</th>\n",
       "      <td>I wanna cry. This is my first proper anime jou...</td>\n",
       "      <td>1601390609</td>\n",
       "      <td></td>\n",
       "      <td>anime</td>\n",
       "      <td>marsy_what_s_up</td>\n",
       "      <td>1</td>\n",
       "    </tr>\n",
       "    <tr>\n",
       "      <th>1</th>\n",
       "      <td>ios 14 anime theme ( ^ω^ )</td>\n",
       "      <td>1601390323</td>\n",
       "      <td></td>\n",
       "      <td>anime</td>\n",
       "      <td>deluxeconan</td>\n",
       "      <td>1</td>\n",
       "    </tr>\n",
       "    <tr>\n",
       "      <th>2</th>\n",
       "      <td>Upcoming Fall 2020 Anime You Need to WATCH</td>\n",
       "      <td>1601390279</td>\n",
       "      <td></td>\n",
       "      <td>anime</td>\n",
       "      <td>animenewsupdates</td>\n",
       "      <td>1</td>\n",
       "    </tr>\n",
       "    <tr>\n",
       "      <th>3</th>\n",
       "      <td>im kind of having an identity crisis rn plz help</td>\n",
       "      <td>1601389966</td>\n",
       "      <td>ok so i was thinking about how there are 3 pri...</td>\n",
       "      <td>anime</td>\n",
       "      <td>Aclover69</td>\n",
       "      <td>1</td>\n",
       "    </tr>\n",
       "    <tr>\n",
       "      <th>4</th>\n",
       "      <td>Sauce for this character..? Please help, /Anime</td>\n",
       "      <td>1601389834</td>\n",
       "      <td>Who knows [this anime-style character](https:/...</td>\n",
       "      <td>anime</td>\n",
       "      <td>stuck_key</td>\n",
       "      <td>1</td>\n",
       "    </tr>\n",
       "  </tbody>\n",
       "</table>\n",
       "</div>"
      ],
      "text/plain": [
       "                                               title  created_utc  \\\n",
       "0  I wanna cry. This is my first proper anime jou...   1601390609   \n",
       "1                         ios 14 anime theme ( ^ω^ )   1601390323   \n",
       "2         Upcoming Fall 2020 Anime You Need to WATCH   1601390279   \n",
       "3   im kind of having an identity crisis rn plz help   1601389966   \n",
       "4    Sauce for this character..? Please help, /Anime   1601389834   \n",
       "\n",
       "                                                post subreddit  \\\n",
       "0                                                        anime   \n",
       "1                                                        anime   \n",
       "2                                                        anime   \n",
       "3  ok so i was thinking about how there are 3 pri...     anime   \n",
       "4  Who knows [this anime-style character](https:/...     anime   \n",
       "\n",
       "             author  label  \n",
       "0   marsy_what_s_up      1  \n",
       "1       deluxeconan      1  \n",
       "2  animenewsupdates      1  \n",
       "3         Aclover69      1  \n",
       "4         stuck_key      1  "
      ]
     },
     "execution_count": 38,
     "metadata": {},
     "output_type": "execute_result"
    }
   ],
   "source": [
    "anime_manga.head()"
   ]
  },
  {
   "cell_type": "code",
   "execution_count": 39,
   "metadata": {},
   "outputs": [
    {
     "name": "stderr",
     "output_type": "stream",
     "text": [
      "<ipython-input-39-48ccff26696c>:2: SettingWithCopyWarning: \n",
      "A value is trying to be set on a copy of a slice from a DataFrame\n",
      "\n",
      "See the caveats in the documentation: https://pandas.pydata.org/pandas-docs/stable/user_guide/indexing.html#returning-a-view-versus-a-copy\n",
      "  anime_manga['label'][i] = 0\n"
     ]
    }
   ],
   "source": [
    "# Change label to 0 for anime subreddit\n",
    "for i in range(0, 2500):\n",
    "    anime_manga['label'][i] = 0"
   ]
  },
  {
   "cell_type": "code",
   "execution_count": 40,
   "metadata": {},
   "outputs": [
    {
     "data": {
      "text/html": [
       "<div>\n",
       "<style scoped>\n",
       "    .dataframe tbody tr th:only-of-type {\n",
       "        vertical-align: middle;\n",
       "    }\n",
       "\n",
       "    .dataframe tbody tr th {\n",
       "        vertical-align: top;\n",
       "    }\n",
       "\n",
       "    .dataframe thead th {\n",
       "        text-align: right;\n",
       "    }\n",
       "</style>\n",
       "<table border=\"1\" class=\"dataframe\">\n",
       "  <thead>\n",
       "    <tr style=\"text-align: right;\">\n",
       "      <th></th>\n",
       "      <th>title</th>\n",
       "      <th>created_utc</th>\n",
       "      <th>post</th>\n",
       "      <th>subreddit</th>\n",
       "      <th>author</th>\n",
       "      <th>label</th>\n",
       "    </tr>\n",
       "  </thead>\n",
       "  <tbody>\n",
       "    <tr>\n",
       "      <th>2495</th>\n",
       "      <td>AOT S4</td>\n",
       "      <td>1601074228</td>\n",
       "      <td></td>\n",
       "      <td>anime</td>\n",
       "      <td>xPrinceofSaiyans</td>\n",
       "      <td>0</td>\n",
       "    </tr>\n",
       "    <tr>\n",
       "      <th>2496</th>\n",
       "      <td>I just got into anime and was wondering where ...</td>\n",
       "      <td>1601074211</td>\n",
       "      <td>I just started watching anime but I don’t have...</td>\n",
       "      <td>anime</td>\n",
       "      <td>sanslikeslolis</td>\n",
       "      <td>0</td>\n",
       "    </tr>\n",
       "    <tr>\n",
       "      <th>2497</th>\n",
       "      <td>What was the episode of Shokugeki No Soma wher...</td>\n",
       "      <td>1601073766</td>\n",
       "      <td>I wanna find it so I can get a recipe for the ...</td>\n",
       "      <td>anime</td>\n",
       "      <td>DelusionalDonut13</td>\n",
       "      <td>0</td>\n",
       "    </tr>\n",
       "    <tr>\n",
       "      <th>2498</th>\n",
       "      <td>Zoro vs Killer Full Fight (English Subbed)</td>\n",
       "      <td>1601073672</td>\n",
       "      <td></td>\n",
       "      <td>anime</td>\n",
       "      <td>ESWAGGER8</td>\n",
       "      <td>0</td>\n",
       "    </tr>\n",
       "    <tr>\n",
       "      <th>2499</th>\n",
       "      <td>Any popular show with universal agreement abou...</td>\n",
       "      <td>1601073297</td>\n",
       "      <td>I was thinking about this due to a comment in ...</td>\n",
       "      <td>anime</td>\n",
       "      <td>Emi_Ibarazakiii</td>\n",
       "      <td>0</td>\n",
       "    </tr>\n",
       "    <tr>\n",
       "      <th>2500</th>\n",
       "      <td>Is there a Manga with a paraplegic as the main...</td>\n",
       "      <td>1601390572</td>\n",
       "      <td>I'm curious</td>\n",
       "      <td>manga</td>\n",
       "      <td>ComradKenobi</td>\n",
       "      <td>1</td>\n",
       "    </tr>\n",
       "    <tr>\n",
       "      <th>2501</th>\n",
       "      <td>Is there a manga with a paraplegic as a main c...</td>\n",
       "      <td>1601390521</td>\n",
       "      <td>I'm curious</td>\n",
       "      <td>manga</td>\n",
       "      <td>ComradKenobi</td>\n",
       "      <td>1</td>\n",
       "    </tr>\n",
       "    <tr>\n",
       "      <th>2502</th>\n",
       "      <td>Manga&amp;gt;&amp;gt;&amp;gt;&amp;gt;anime.</td>\n",
       "      <td>1601390414</td>\n",
       "      <td></td>\n",
       "      <td>manga</td>\n",
       "      <td>AxelXIV</td>\n",
       "      <td>1</td>\n",
       "    </tr>\n",
       "    <tr>\n",
       "      <th>2503</th>\n",
       "      <td>[DISC] Shaman King: Marcos Vol. 1 Ch. 3 - Chan...</td>\n",
       "      <td>1601390163</td>\n",
       "      <td></td>\n",
       "      <td>manga</td>\n",
       "      <td>SenorNoobnerd</td>\n",
       "      <td>1</td>\n",
       "    </tr>\n",
       "    <tr>\n",
       "      <th>2504</th>\n",
       "      <td>Manga Recommendations</td>\n",
       "      <td>1601389678</td>\n",
       "      <td>I like Comedy/School Life/Slice of life Manga....</td>\n",
       "      <td>manga</td>\n",
       "      <td>Zeromuya_Yato</td>\n",
       "      <td>1</td>\n",
       "    </tr>\n",
       "    <tr>\n",
       "      <th>2505</th>\n",
       "      <td>[DISC] Does Love Need a Translation App? Ch. 2...</td>\n",
       "      <td>1601389673</td>\n",
       "      <td></td>\n",
       "      <td>manga</td>\n",
       "      <td>takemiHaruto</td>\n",
       "      <td>1</td>\n",
       "    </tr>\n",
       "  </tbody>\n",
       "</table>\n",
       "</div>"
      ],
      "text/plain": [
       "                                                  title  created_utc  \\\n",
       "2495                                             AOT S4   1601074228   \n",
       "2496  I just got into anime and was wondering where ...   1601074211   \n",
       "2497  What was the episode of Shokugeki No Soma wher...   1601073766   \n",
       "2498         Zoro vs Killer Full Fight (English Subbed)   1601073672   \n",
       "2499  Any popular show with universal agreement abou...   1601073297   \n",
       "2500  Is there a Manga with a paraplegic as the main...   1601390572   \n",
       "2501  Is there a manga with a paraplegic as a main c...   1601390521   \n",
       "2502                        Manga&gt;&gt;&gt;&gt;anime.   1601390414   \n",
       "2503  [DISC] Shaman King: Marcos Vol. 1 Ch. 3 - Chan...   1601390163   \n",
       "2504                              Manga Recommendations   1601389678   \n",
       "2505  [DISC] Does Love Need a Translation App? Ch. 2...   1601389673   \n",
       "\n",
       "                                                   post subreddit  \\\n",
       "2495                                                        anime   \n",
       "2496  I just started watching anime but I don’t have...     anime   \n",
       "2497  I wanna find it so I can get a recipe for the ...     anime   \n",
       "2498                                                        anime   \n",
       "2499  I was thinking about this due to a comment in ...     anime   \n",
       "2500                                        I'm curious     manga   \n",
       "2501                                        I'm curious     manga   \n",
       "2502                                                        manga   \n",
       "2503                                                        manga   \n",
       "2504  I like Comedy/School Life/Slice of life Manga....     manga   \n",
       "2505                                                        manga   \n",
       "\n",
       "                 author  label  \n",
       "2495   xPrinceofSaiyans      0  \n",
       "2496     sanslikeslolis      0  \n",
       "2497  DelusionalDonut13      0  \n",
       "2498          ESWAGGER8      0  \n",
       "2499    Emi_Ibarazakiii      0  \n",
       "2500       ComradKenobi      1  \n",
       "2501       ComradKenobi      1  \n",
       "2502            AxelXIV      1  \n",
       "2503      SenorNoobnerd      1  \n",
       "2504      Zeromuya_Yato      1  \n",
       "2505       takemiHaruto      1  "
      ]
     },
     "execution_count": 40,
     "metadata": {},
     "output_type": "execute_result"
    }
   ],
   "source": [
    "anime_manga.loc[2495:2505]"
   ]
  },
  {
   "cell_type": "markdown",
   "metadata": {},
   "source": [
    "## EDA and Preprocessing"
   ]
  },
  {
   "cell_type": "code",
   "execution_count": 43,
   "metadata": {},
   "outputs": [],
   "source": [
    "# source: https://gist.github.com/MrEliptik/b3f16179aa2f530781ef8ca9a16499af\n",
    "# convenient functions to call upon for manual preprocessing\n",
    "\n",
    "def remove_URL(sample):\n",
    "    \"\"\"Remove URLs from a sample string\"\"\"\n",
    "    return re.sub(r\"http\\S+\", \"\", sample)\n",
    "\n",
    "def remove_non_ascii(words):\n",
    "    \"\"\"Remove non-ASCII characters from list of tokenized words\"\"\"\n",
    "    new_words = []\n",
    "    for word in words:\n",
    "        new_word = unicodedata.normalize('NFKD', word).encode('ascii', 'ignore').decode('utf-8', 'ignore')\n",
    "        new_words.append(new_word)\n",
    "    return new_words\n",
    "\n",
    "def to_lowercase(words):\n",
    "    \"\"\"Convert all characters to lowercase from list of tokenized words\"\"\"\n",
    "    new_words = []\n",
    "    for word in words:\n",
    "        new_word = word.lower()\n",
    "        new_words.append(new_word)\n",
    "    return new_words\n",
    "\n",
    "def remove_punctuation(words):\n",
    "    \"\"\"Remove punctuation from list of tokenized words\"\"\"\n",
    "    new_words = []\n",
    "    for word in words:\n",
    "        new_word = re.sub(r'[^\\w\\s]', '', word)\n",
    "        if new_word != '':\n",
    "            new_words.append(new_word)\n",
    "    return new_words\n",
    "\n",
    "def remove_stopwords(words):\n",
    "    \"\"\"Remove stop words from list of tokenized words\"\"\"\n",
    "    new_words = []\n",
    "    for word in words:\n",
    "        if word not in stopwords.words('english'):\n",
    "            new_words.append(word)\n",
    "    return new_words\n",
    "\n",
    "def stem_words(words):\n",
    "    \"\"\"Stem words in list of tokenized words\"\"\"\n",
    "    stemmer = LancasterStemmer()\n",
    "    stems = []\n",
    "    for word in words:\n",
    "        stem = stemmer.stem(word)\n",
    "        stems.append(stem)\n",
    "    return stems\n",
    "\n",
    "def lemmatize_verbs(words):\n",
    "    \"\"\"Lemmatize verbs in list of tokenized words\"\"\"\n",
    "    lemmatizer = WordNetLemmatizer()\n",
    "    lemmas = []\n",
    "    for word in words:\n",
    "        lemma = lemmatizer.lemmatize(word, pos='v')\n",
    "        lemmas.append(lemma)\n",
    "    return lemmas\n",
    "\n",
    "def normalize(words):\n",
    "    words = remove_non_ascii(words)\n",
    "    words = to_lowercase(words)\n",
    "    words = remove_punctuation(words)\n",
    "    words = remove_stopwords(words)\n",
    "    return words\n",
    "\n",
    "def preprocess(sample):\n",
    "    sample = remove_URL(sample)\n",
    "    \n",
    "    # Tokenize\n",
    "    words = nltk.word_tokenize(sample)\n",
    "\n",
    "    # Normalize\n",
    "    return normalize(words)"
   ]
  },
  {
   "cell_type": "code",
   "execution_count": 44,
   "metadata": {},
   "outputs": [],
   "source": [
    "# Mapping preprocessing functions to title and post columns\n",
    "anime_manga['title'] = anime_manga['title'].map(preprocess)\n",
    "anime_manga['post'] = anime_manga['post'].map(preprocess)"
   ]
  },
  {
   "cell_type": "code",
   "execution_count": 72,
   "metadata": {},
   "outputs": [],
   "source": [
    "# Lemmatizing verbs for title and post columns\n",
    "anime_manga['title'] = anime_manga['title'].map(lemmatize_verbs)\n",
    "anime_manga['post'] = anime_manga['post'].map(lemmatize_verbs)"
   ]
  },
  {
   "cell_type": "code",
   "execution_count": 73,
   "metadata": {},
   "outputs": [
    {
     "data": {
      "text/html": [
       "<div>\n",
       "<style scoped>\n",
       "    .dataframe tbody tr th:only-of-type {\n",
       "        vertical-align: middle;\n",
       "    }\n",
       "\n",
       "    .dataframe tbody tr th {\n",
       "        vertical-align: top;\n",
       "    }\n",
       "\n",
       "    .dataframe thead th {\n",
       "        text-align: right;\n",
       "    }\n",
       "</style>\n",
       "<table border=\"1\" class=\"dataframe\">\n",
       "  <thead>\n",
       "    <tr style=\"text-align: right;\">\n",
       "      <th></th>\n",
       "      <th>title</th>\n",
       "      <th>created_utc</th>\n",
       "      <th>post</th>\n",
       "      <th>subreddit</th>\n",
       "      <th>author</th>\n",
       "      <th>label</th>\n",
       "    </tr>\n",
       "  </thead>\n",
       "  <tbody>\n",
       "    <tr>\n",
       "      <th>0</th>\n",
       "      <td>[wan, na, cry, first, proper, anime, journal, ...</td>\n",
       "      <td>1601390609</td>\n",
       "      <td>[]</td>\n",
       "      <td>anime</td>\n",
       "      <td>marsy_what_s_up</td>\n",
       "      <td>0</td>\n",
       "    </tr>\n",
       "    <tr>\n",
       "      <th>1</th>\n",
       "      <td>[ios, 14, anime, theme]</td>\n",
       "      <td>1601390323</td>\n",
       "      <td>[]</td>\n",
       "      <td>anime</td>\n",
       "      <td>deluxeconan</td>\n",
       "      <td>0</td>\n",
       "    </tr>\n",
       "    <tr>\n",
       "      <th>2</th>\n",
       "      <td>[upcoming, fall, 2020, anime, need, watch]</td>\n",
       "      <td>1601390279</td>\n",
       "      <td>[]</td>\n",
       "      <td>anime</td>\n",
       "      <td>animenewsupdates</td>\n",
       "      <td>0</td>\n",
       "    </tr>\n",
       "    <tr>\n",
       "      <th>3</th>\n",
       "      <td>[im, kind, identity, crisis, rn, plz, help]</td>\n",
       "      <td>1601389966</td>\n",
       "      <td>[ok, think, 3, primary, class, anime, watchers...</td>\n",
       "      <td>anime</td>\n",
       "      <td>Aclover69</td>\n",
       "      <td>0</td>\n",
       "    </tr>\n",
       "    <tr>\n",
       "      <th>4</th>\n",
       "      <td>[sauce, character, please, help, anime]</td>\n",
       "      <td>1601389834</td>\n",
       "      <td>[know, animestyle, character, find, old, game,...</td>\n",
       "      <td>anime</td>\n",
       "      <td>stuck_key</td>\n",
       "      <td>0</td>\n",
       "    </tr>\n",
       "  </tbody>\n",
       "</table>\n",
       "</div>"
      ],
      "text/plain": [
       "                                               title  created_utc  \\\n",
       "0  [wan, na, cry, first, proper, anime, journal, ...   1601390609   \n",
       "1                            [ios, 14, anime, theme]   1601390323   \n",
       "2         [upcoming, fall, 2020, anime, need, watch]   1601390279   \n",
       "3        [im, kind, identity, crisis, rn, plz, help]   1601389966   \n",
       "4            [sauce, character, please, help, anime]   1601389834   \n",
       "\n",
       "                                                post subreddit  \\\n",
       "0                                                 []     anime   \n",
       "1                                                 []     anime   \n",
       "2                                                 []     anime   \n",
       "3  [ok, think, 3, primary, class, anime, watchers...     anime   \n",
       "4  [know, animestyle, character, find, old, game,...     anime   \n",
       "\n",
       "             author  label  \n",
       "0   marsy_what_s_up      0  \n",
       "1       deluxeconan      0  \n",
       "2  animenewsupdates      0  \n",
       "3         Aclover69      0  \n",
       "4         stuck_key      0  "
      ]
     },
     "execution_count": 73,
     "metadata": {},
     "output_type": "execute_result"
    }
   ],
   "source": [
    "anime_manga.head()"
   ]
  },
  {
   "cell_type": "code",
   "execution_count": 86,
   "metadata": {},
   "outputs": [
    {
     "name": "stderr",
     "output_type": "stream",
     "text": [
      "<ipython-input-86-4deba57de26a>:2: SettingWithCopyWarning: \n",
      "A value is trying to be set on a copy of a slice from a DataFrame\n",
      "\n",
      "See the caveats in the documentation: https://pandas.pydata.org/pandas-docs/stable/user_guide/indexing.html#returning-a-view-versus-a-copy\n",
      "  anime_manga['title'][i] = ' '.join(anime_manga['title'][i])\n",
      "<ipython-input-86-4deba57de26a>:3: SettingWithCopyWarning: \n",
      "A value is trying to be set on a copy of a slice from a DataFrame\n",
      "\n",
      "See the caveats in the documentation: https://pandas.pydata.org/pandas-docs/stable/user_guide/indexing.html#returning-a-view-versus-a-copy\n",
      "  anime_manga['post'][i] = ' '.join(anime_manga['post'][i])\n"
     ]
    }
   ],
   "source": [
    "# Putting manually tokenized title and post lists back into string form\n",
    "for i in range(len(df_copy)):\n",
    "    anime_manga['title'][i] = ' '.join(anime_manga['title'][i])\n",
    "    anime_manga['post'][i] = ' '.join(anime_manga['post'][i])"
   ]
  },
  {
   "cell_type": "code",
   "execution_count": 87,
   "metadata": {},
   "outputs": [
    {
     "data": {
      "text/html": [
       "<div>\n",
       "<style scoped>\n",
       "    .dataframe tbody tr th:only-of-type {\n",
       "        vertical-align: middle;\n",
       "    }\n",
       "\n",
       "    .dataframe tbody tr th {\n",
       "        vertical-align: top;\n",
       "    }\n",
       "\n",
       "    .dataframe thead th {\n",
       "        text-align: right;\n",
       "    }\n",
       "</style>\n",
       "<table border=\"1\" class=\"dataframe\">\n",
       "  <thead>\n",
       "    <tr style=\"text-align: right;\">\n",
       "      <th></th>\n",
       "      <th>title</th>\n",
       "      <th>created_utc</th>\n",
       "      <th>post</th>\n",
       "      <th>subreddit</th>\n",
       "      <th>author</th>\n",
       "      <th>label</th>\n",
       "    </tr>\n",
       "  </thead>\n",
       "  <tbody>\n",
       "    <tr>\n",
       "      <th>0</th>\n",
       "      <td>wan na cry first proper anime journal happy ca...</td>\n",
       "      <td>1601390609</td>\n",
       "      <td></td>\n",
       "      <td>anime</td>\n",
       "      <td>marsy_what_s_up</td>\n",
       "      <td>0</td>\n",
       "    </tr>\n",
       "    <tr>\n",
       "      <th>1</th>\n",
       "      <td>ios 14 anime theme</td>\n",
       "      <td>1601390323</td>\n",
       "      <td></td>\n",
       "      <td>anime</td>\n",
       "      <td>deluxeconan</td>\n",
       "      <td>0</td>\n",
       "    </tr>\n",
       "    <tr>\n",
       "      <th>2</th>\n",
       "      <td>upcoming fall 2020 anime need watch</td>\n",
       "      <td>1601390279</td>\n",
       "      <td></td>\n",
       "      <td>anime</td>\n",
       "      <td>animenewsupdates</td>\n",
       "      <td>0</td>\n",
       "    </tr>\n",
       "    <tr>\n",
       "      <th>3</th>\n",
       "      <td>im kind identity crisis rn plz help</td>\n",
       "      <td>1601389966</td>\n",
       "      <td>ok think 3 primary class anime watchers wonder...</td>\n",
       "      <td>anime</td>\n",
       "      <td>Aclover69</td>\n",
       "      <td>0</td>\n",
       "    </tr>\n",
       "    <tr>\n",
       "      <th>4</th>\n",
       "      <td>sauce character please help anime</td>\n",
       "      <td>1601389834</td>\n",
       "      <td>know animestyle character find old game magazi...</td>\n",
       "      <td>anime</td>\n",
       "      <td>stuck_key</td>\n",
       "      <td>0</td>\n",
       "    </tr>\n",
       "  </tbody>\n",
       "</table>\n",
       "</div>"
      ],
      "text/plain": [
       "                                               title  created_utc  \\\n",
       "0  wan na cry first proper anime journal happy ca...   1601390609   \n",
       "1                                 ios 14 anime theme   1601390323   \n",
       "2                upcoming fall 2020 anime need watch   1601390279   \n",
       "3                im kind identity crisis rn plz help   1601389966   \n",
       "4                  sauce character please help anime   1601389834   \n",
       "\n",
       "                                                post subreddit  \\\n",
       "0                                                        anime   \n",
       "1                                                        anime   \n",
       "2                                                        anime   \n",
       "3  ok think 3 primary class anime watchers wonder...     anime   \n",
       "4  know animestyle character find old game magazi...     anime   \n",
       "\n",
       "             author  label  \n",
       "0   marsy_what_s_up      0  \n",
       "1       deluxeconan      0  \n",
       "2  animenewsupdates      0  \n",
       "3         Aclover69      0  \n",
       "4         stuck_key      0  "
      ]
     },
     "execution_count": 87,
     "metadata": {},
     "output_type": "execute_result"
    }
   ],
   "source": [
    "anime_manga.head()"
   ]
  },
  {
   "cell_type": "code",
   "execution_count": 88,
   "metadata": {},
   "outputs": [],
   "source": [
    "anime_manga.to_csv('anime_manga.csv')"
   ]
  },
  {
   "cell_type": "code",
   "execution_count": 228,
   "metadata": {},
   "outputs": [
    {
     "data": {
      "image/png": "[encoded data removed]",
      "text/plain": [
       "<Figure size 864x864 with 1 Axes>"
      ]
     },
     "metadata": {
      "needs_background": "light"
     },
     "output_type": "display_data"
    }
   ],
   "source": [
    "# source: https://www.datacamp.com/community/tutorials/wordcloud-python\n",
    "\n",
    "# Create new dataframe for wordcloud\n",
    "wc_df = pd.read_csv('./data/anime_manga.csv') \n",
    "\n",
    "# Establish text variable and set stopwords (imported)\n",
    "text = ' '\n",
    "stopwords = set(STOPWORDS) \n",
    "  \n",
    "# Iterating through dataframe to split words and add words to wordcloud\n",
    "for i in wc_df.title:  \n",
    "    i = str(i)  \n",
    "    values = i.split()     \n",
    "    for words in values: \n",
    "        text = text + words + ' ' # setting up for wordcloud\n",
    "        \n",
    "# Declaring wordcloud  \n",
    "wc = WordCloud(max_words= 75, width = 400, height = 400, background_color ='white', stopwords=stopwords, contour_width=2.5, contour_color='purple', min_font_size = 8).generate(text) \n",
    "  \n",
    "# Plotting wordcloud                        \n",
    "plt.figure(figsize = (12, 12)) \n",
    "plt.imshow(wc) \n",
    "plt.axis(\"off\");"
   ]
  },
  {
   "cell_type": "code",
   "execution_count": 175,
   "metadata": {},
   "outputs": [
    {
     "data": {
      "text/html": [
       "<div>\n",
       "<style scoped>\n",
       "    .dataframe tbody tr th:only-of-type {\n",
       "        vertical-align: middle;\n",
       "    }\n",
       "\n",
       "    .dataframe tbody tr th {\n",
       "        vertical-align: top;\n",
       "    }\n",
       "\n",
       "    .dataframe thead th {\n",
       "        text-align: right;\n",
       "    }\n",
       "</style>\n",
       "<table border=\"1\" class=\"dataframe\">\n",
       "  <thead>\n",
       "    <tr style=\"text-align: right;\">\n",
       "      <th></th>\n",
       "      <th>000</th>\n",
       "      <th>00s</th>\n",
       "      <th>02</th>\n",
       "      <th>09272020</th>\n",
       "      <th>0nin</th>\n",
       "      <th>10</th>\n",
       "      <th>100</th>\n",
       "      <th>1000</th>\n",
       "      <th>1000000</th>\n",
       "      <th>100gf</th>\n",
       "      <th>...</th>\n",
       "      <th>zerotwo</th>\n",
       "      <th>zetsubou</th>\n",
       "      <th>zetton</th>\n",
       "      <th>zoldyck</th>\n",
       "      <th>zombie</th>\n",
       "      <th>zone</th>\n",
       "      <th>zooted</th>\n",
       "      <th>zoro</th>\n",
       "      <th>zu</th>\n",
       "      <th>zutto</th>\n",
       "    </tr>\n",
       "  </thead>\n",
       "  <tbody>\n",
       "    <tr>\n",
       "      <th>0</th>\n",
       "      <td>0</td>\n",
       "      <td>0</td>\n",
       "      <td>0</td>\n",
       "      <td>0</td>\n",
       "      <td>0</td>\n",
       "      <td>0</td>\n",
       "      <td>0</td>\n",
       "      <td>0</td>\n",
       "      <td>0</td>\n",
       "      <td>0</td>\n",
       "      <td>...</td>\n",
       "      <td>0</td>\n",
       "      <td>0</td>\n",
       "      <td>0</td>\n",
       "      <td>0</td>\n",
       "      <td>0</td>\n",
       "      <td>0</td>\n",
       "      <td>0</td>\n",
       "      <td>0</td>\n",
       "      <td>0</td>\n",
       "      <td>0</td>\n",
       "    </tr>\n",
       "    <tr>\n",
       "      <th>1</th>\n",
       "      <td>0</td>\n",
       "      <td>0</td>\n",
       "      <td>0</td>\n",
       "      <td>0</td>\n",
       "      <td>0</td>\n",
       "      <td>0</td>\n",
       "      <td>0</td>\n",
       "      <td>0</td>\n",
       "      <td>0</td>\n",
       "      <td>0</td>\n",
       "      <td>...</td>\n",
       "      <td>0</td>\n",
       "      <td>0</td>\n",
       "      <td>0</td>\n",
       "      <td>0</td>\n",
       "      <td>0</td>\n",
       "      <td>0</td>\n",
       "      <td>0</td>\n",
       "      <td>0</td>\n",
       "      <td>0</td>\n",
       "      <td>0</td>\n",
       "    </tr>\n",
       "    <tr>\n",
       "      <th>2</th>\n",
       "      <td>0</td>\n",
       "      <td>0</td>\n",
       "      <td>0</td>\n",
       "      <td>0</td>\n",
       "      <td>0</td>\n",
       "      <td>0</td>\n",
       "      <td>0</td>\n",
       "      <td>0</td>\n",
       "      <td>0</td>\n",
       "      <td>0</td>\n",
       "      <td>...</td>\n",
       "      <td>0</td>\n",
       "      <td>0</td>\n",
       "      <td>0</td>\n",
       "      <td>0</td>\n",
       "      <td>0</td>\n",
       "      <td>0</td>\n",
       "      <td>0</td>\n",
       "      <td>0</td>\n",
       "      <td>0</td>\n",
       "      <td>0</td>\n",
       "    </tr>\n",
       "    <tr>\n",
       "      <th>3</th>\n",
       "      <td>0</td>\n",
       "      <td>0</td>\n",
       "      <td>0</td>\n",
       "      <td>0</td>\n",
       "      <td>0</td>\n",
       "      <td>0</td>\n",
       "      <td>0</td>\n",
       "      <td>0</td>\n",
       "      <td>0</td>\n",
       "      <td>0</td>\n",
       "      <td>...</td>\n",
       "      <td>0</td>\n",
       "      <td>0</td>\n",
       "      <td>0</td>\n",
       "      <td>0</td>\n",
       "      <td>0</td>\n",
       "      <td>0</td>\n",
       "      <td>0</td>\n",
       "      <td>0</td>\n",
       "      <td>0</td>\n",
       "      <td>0</td>\n",
       "    </tr>\n",
       "    <tr>\n",
       "      <th>4</th>\n",
       "      <td>0</td>\n",
       "      <td>0</td>\n",
       "      <td>0</td>\n",
       "      <td>0</td>\n",
       "      <td>0</td>\n",
       "      <td>0</td>\n",
       "      <td>0</td>\n",
       "      <td>0</td>\n",
       "      <td>0</td>\n",
       "      <td>0</td>\n",
       "      <td>...</td>\n",
       "      <td>0</td>\n",
       "      <td>0</td>\n",
       "      <td>0</td>\n",
       "      <td>0</td>\n",
       "      <td>0</td>\n",
       "      <td>0</td>\n",
       "      <td>0</td>\n",
       "      <td>0</td>\n",
       "      <td>0</td>\n",
       "      <td>0</td>\n",
       "    </tr>\n",
       "    <tr>\n",
       "      <th>5</th>\n",
       "      <td>0</td>\n",
       "      <td>0</td>\n",
       "      <td>0</td>\n",
       "      <td>0</td>\n",
       "      <td>0</td>\n",
       "      <td>0</td>\n",
       "      <td>0</td>\n",
       "      <td>0</td>\n",
       "      <td>0</td>\n",
       "      <td>0</td>\n",
       "      <td>...</td>\n",
       "      <td>0</td>\n",
       "      <td>0</td>\n",
       "      <td>0</td>\n",
       "      <td>0</td>\n",
       "      <td>0</td>\n",
       "      <td>0</td>\n",
       "      <td>0</td>\n",
       "      <td>0</td>\n",
       "      <td>0</td>\n",
       "      <td>0</td>\n",
       "    </tr>\n",
       "    <tr>\n",
       "      <th>6</th>\n",
       "      <td>0</td>\n",
       "      <td>0</td>\n",
       "      <td>0</td>\n",
       "      <td>0</td>\n",
       "      <td>0</td>\n",
       "      <td>0</td>\n",
       "      <td>0</td>\n",
       "      <td>0</td>\n",
       "      <td>0</td>\n",
       "      <td>0</td>\n",
       "      <td>...</td>\n",
       "      <td>0</td>\n",
       "      <td>0</td>\n",
       "      <td>0</td>\n",
       "      <td>0</td>\n",
       "      <td>0</td>\n",
       "      <td>0</td>\n",
       "      <td>0</td>\n",
       "      <td>0</td>\n",
       "      <td>0</td>\n",
       "      <td>0</td>\n",
       "    </tr>\n",
       "    <tr>\n",
       "      <th>7</th>\n",
       "      <td>0</td>\n",
       "      <td>0</td>\n",
       "      <td>0</td>\n",
       "      <td>0</td>\n",
       "      <td>0</td>\n",
       "      <td>0</td>\n",
       "      <td>0</td>\n",
       "      <td>0</td>\n",
       "      <td>0</td>\n",
       "      <td>0</td>\n",
       "      <td>...</td>\n",
       "      <td>0</td>\n",
       "      <td>0</td>\n",
       "      <td>0</td>\n",
       "      <td>0</td>\n",
       "      <td>0</td>\n",
       "      <td>0</td>\n",
       "      <td>0</td>\n",
       "      <td>0</td>\n",
       "      <td>0</td>\n",
       "      <td>0</td>\n",
       "    </tr>\n",
       "    <tr>\n",
       "      <th>8</th>\n",
       "      <td>0</td>\n",
       "      <td>0</td>\n",
       "      <td>0</td>\n",
       "      <td>0</td>\n",
       "      <td>0</td>\n",
       "      <td>0</td>\n",
       "      <td>0</td>\n",
       "      <td>0</td>\n",
       "      <td>0</td>\n",
       "      <td>0</td>\n",
       "      <td>...</td>\n",
       "      <td>0</td>\n",
       "      <td>0</td>\n",
       "      <td>0</td>\n",
       "      <td>0</td>\n",
       "      <td>0</td>\n",
       "      <td>0</td>\n",
       "      <td>0</td>\n",
       "      <td>0</td>\n",
       "      <td>0</td>\n",
       "      <td>0</td>\n",
       "    </tr>\n",
       "    <tr>\n",
       "      <th>9</th>\n",
       "      <td>0</td>\n",
       "      <td>0</td>\n",
       "      <td>0</td>\n",
       "      <td>0</td>\n",
       "      <td>0</td>\n",
       "      <td>0</td>\n",
       "      <td>0</td>\n",
       "      <td>0</td>\n",
       "      <td>0</td>\n",
       "      <td>0</td>\n",
       "      <td>...</td>\n",
       "      <td>0</td>\n",
       "      <td>0</td>\n",
       "      <td>0</td>\n",
       "      <td>0</td>\n",
       "      <td>0</td>\n",
       "      <td>0</td>\n",
       "      <td>0</td>\n",
       "      <td>0</td>\n",
       "      <td>0</td>\n",
       "      <td>0</td>\n",
       "    </tr>\n",
       "  </tbody>\n",
       "</table>\n",
       "<p>10 rows × 4514 columns</p>\n",
       "</div>"
      ],
      "text/plain": [
       "   000  00s  02  09272020  0nin  10  100  1000  1000000  100gf  ...  zerotwo  \\\n",
       "0    0    0   0         0     0   0    0     0        0      0  ...        0   \n",
       "1    0    0   0         0     0   0    0     0        0      0  ...        0   \n",
       "2    0    0   0         0     0   0    0     0        0      0  ...        0   \n",
       "3    0    0   0         0     0   0    0     0        0      0  ...        0   \n",
       "4    0    0   0         0     0   0    0     0        0      0  ...        0   \n",
       "5    0    0   0         0     0   0    0     0        0      0  ...        0   \n",
       "6    0    0   0         0     0   0    0     0        0      0  ...        0   \n",
       "7    0    0   0         0     0   0    0     0        0      0  ...        0   \n",
       "8    0    0   0         0     0   0    0     0        0      0  ...        0   \n",
       "9    0    0   0         0     0   0    0     0        0      0  ...        0   \n",
       "\n",
       "   zetsubou  zetton  zoldyck  zombie  zone  zooted  zoro  zu  zutto  \n",
       "0         0       0        0       0     0       0     0   0      0  \n",
       "1         0       0        0       0     0       0     0   0      0  \n",
       "2         0       0        0       0     0       0     0   0      0  \n",
       "3         0       0        0       0     0       0     0   0      0  \n",
       "4         0       0        0       0     0       0     0   0      0  \n",
       "5         0       0        0       0     0       0     0   0      0  \n",
       "6         0       0        0       0     0       0     0   0      0  \n",
       "7         0       0        0       0     0       0     0   0      0  \n",
       "8         0       0        0       0     0       0     0   0      0  \n",
       "9         0       0        0       0     0       0     0   0      0  \n",
       "\n",
       "[10 rows x 4514 columns]"
      ]
     },
     "execution_count": 175,
     "metadata": {},
     "output_type": "execute_result"
    }
   ],
   "source": [
    "X_train_cv.head(10)"
   ]
  },
  {
   "cell_type": "code",
   "execution_count": 170,
   "metadata": {},
   "outputs": [],
   "source": [
    "top_words = {}\n",
    "\n",
    "# loop through columns\n",
    "for i in X_train_cv.columns:\n",
    "    # save sum of each column in dictionary\n",
    "    top_words[i] =  X_train_cv[i].sum()"
   ]
  },
  {
   "cell_type": "code",
   "execution_count": 171,
   "metadata": {},
   "outputs": [],
   "source": [
    "most_freq = pd.DataFrame(sorted(top_words.items(), key = lambda x: x[1], reverse = True))"
   ]
  },
  {
   "cell_type": "code",
   "execution_count": 172,
   "metadata": {},
   "outputs": [],
   "source": [
    "most_freq_df = pd.DataFrame(most_freq)"
   ]
  },
  {
   "cell_type": "code",
   "execution_count": 173,
   "metadata": {},
   "outputs": [
    {
     "data": {
      "text/html": [
       "<div>\n",
       "<style scoped>\n",
       "    .dataframe tbody tr th:only-of-type {\n",
       "        vertical-align: middle;\n",
       "    }\n",
       "\n",
       "    .dataframe tbody tr th {\n",
       "        vertical-align: top;\n",
       "    }\n",
       "\n",
       "    .dataframe thead th {\n",
       "        text-align: right;\n",
       "    }\n",
       "</style>\n",
       "<table border=\"1\" class=\"dataframe\">\n",
       "  <thead>\n",
       "    <tr style=\"text-align: right;\">\n",
       "      <th></th>\n",
       "      <th>0</th>\n",
       "      <th>1</th>\n",
       "    </tr>\n",
       "  </thead>\n",
       "  <tbody>\n",
       "    <tr>\n",
       "      <th>0</th>\n",
       "      <td>anime</td>\n",
       "      <td>616</td>\n",
       "    </tr>\n",
       "    <tr>\n",
       "      <th>1</th>\n",
       "      <td>disc</td>\n",
       "      <td>614</td>\n",
       "    </tr>\n",
       "    <tr>\n",
       "      <th>2</th>\n",
       "      <td>manga</td>\n",
       "      <td>495</td>\n",
       "    </tr>\n",
       "    <tr>\n",
       "      <th>3</th>\n",
       "      <td>chapter</td>\n",
       "      <td>308</td>\n",
       "    </tr>\n",
       "    <tr>\n",
       "      <th>4</th>\n",
       "      <td>ch</td>\n",
       "      <td>273</td>\n",
       "    </tr>\n",
       "  </tbody>\n",
       "</table>\n",
       "</div>"
      ],
      "text/plain": [
       "         0    1\n",
       "0    anime  616\n",
       "1     disc  614\n",
       "2    manga  495\n",
       "3  chapter  308\n",
       "4       ch  273"
      ]
     },
     "execution_count": 173,
     "metadata": {},
     "output_type": "execute_result"
    }
   ],
   "source": [
    "most_freq_df.head()"
   ]
  },
  {
   "cell_type": "code",
   "execution_count": 181,
   "metadata": {},
   "outputs": [
    {
     "data": {
      "text/plain": [
       "<Figure size 720x360 with 0 Axes>"
      ]
     },
     "metadata": {},
     "output_type": "display_data"
    },
    {
     "data": {
      "image/png": "[encoded data removed]",
      "text/plain": [
       "<Figure size 432x288 with 1 Axes>"
      ]
     },
     "metadata": {
      "needs_background": "light"
     },
     "output_type": "display_data"
    }
   ],
   "source": [
    "plt.figure(figsize = (10, 5))\n",
    "\n",
    "# visualize top 10 words\n",
    "\n",
    "most_freq_df.nlargest(10, 1).plot(kind = 'bar', color = 'orange', title = 'Top 10 words in both subreddits')\n",
    "plt.xticks([i for i in range(10)], [col for col in most_freq_df.nlargest(10, 1)[0]]);"
   ]
  },
  {
   "cell_type": "markdown",
   "metadata": {},
   "source": [
    "## Modeling"
   ]
  },
  {
   "cell_type": "code",
   "execution_count": 225,
   "metadata": {},
   "outputs": [],
   "source": [
    "# Declaring X and y for modeling\n",
    "X = anime_manga[['title']]\n",
    "y = anime_manga['label']"
   ]
  },
  {
   "cell_type": "code",
   "execution_count": 208,
   "metadata": {},
   "outputs": [],
   "source": [
    "# train_test_split\n",
    "X_train, X_test, y_train, y_test = train_test_split(X, y, test_size = 0.33, random_state = 42, stratify = y)"
   ]
  },
  {
   "cell_type": "code",
   "execution_count": 223,
   "metadata": {},
   "outputs": [
    {
     "name": "stdout",
     "output_type": "stream",
     "text": [
      "(3350, 1)\n",
      "(1650, 1)\n",
      "(3350,)\n",
      "(1650,)\n"
     ]
    }
   ],
   "source": [
    "# Show shapes of sets to double check\n",
    "print(X_train.shape)\n",
    "print(X_test.shape)\n",
    "print(y_train.shape)\n",
    "print(y_test.shape)"
   ]
  },
  {
   "cell_type": "code",
   "execution_count": 92,
   "metadata": {},
   "outputs": [
    {
     "data": {
      "text/plain": [
       "0.5"
      ]
     },
     "execution_count": 92,
     "metadata": {},
     "output_type": "execute_result"
    }
   ],
   "source": [
    "# Baseline accuracy\n",
    "1 - y_train.sum()/len(y_train)"
   ]
  },
  {
   "cell_type": "code",
   "execution_count": 93,
   "metadata": {},
   "outputs": [
    {
     "data": {
      "text/plain": [
       "<3350x4514 sparse matrix of type '<class 'numpy.int64'>'\n",
       "\twith 16703 stored elements in Compressed Sparse Row format>"
      ]
     },
     "execution_count": 93,
     "metadata": {},
     "output_type": "execute_result"
    }
   ],
   "source": [
    "# Set up CountVectorizer, strip accents due to large range of characters used in each subreddit\n",
    "cv = CountVectorizer(stop_words='english', strip_accents = 'ascii')\n",
    "\n",
    "# Transform on title\n",
    "cv.fit_transform(X_train['title'])"
   ]
  },
  {
   "cell_type": "code",
   "execution_count": 94,
   "metadata": {},
   "outputs": [],
   "source": [
    "# Use toarray and get_feature_names while making new DataFrame as a nice way to grab & evaluate all word occurrences\n",
    "X_train_cv = pd.DataFrame(cv.transform(X_train['title']).toarray(), columns = cv.get_feature_names())\n",
    "X_test_cv = pd.DataFrame(cv.transform(X_test['title']).toarray(), columns = cv.get_feature_names())"
   ]
  },
  {
   "cell_type": "code",
   "execution_count": 95,
   "metadata": {},
   "outputs": [],
   "source": [
    "# Basic Logistic Regression\n",
    "lr = LogisticRegression()"
   ]
  },
  {
   "cell_type": "code",
   "execution_count": 96,
   "metadata": {},
   "outputs": [
    {
     "data": {
      "text/plain": [
       "LogisticRegression()"
      ]
     },
     "execution_count": 96,
     "metadata": {},
     "output_type": "execute_result"
    }
   ],
   "source": [
    "# Fitting Regression\n",
    "lr.fit(X_train_cv, y_train)"
   ]
  },
  {
   "cell_type": "code",
   "execution_count": 98,
   "metadata": {},
   "outputs": [
    {
     "data": {
      "text/plain": [
       "0.8866666666666667"
      ]
     },
     "execution_count": 98,
     "metadata": {},
     "output_type": "execute_result"
    }
   ],
   "source": [
    "# Displaying score for test set\n",
    "lr.score(X_test_cv, y_test)"
   ]
  },
  {
   "cell_type": "code",
   "execution_count": 99,
   "metadata": {},
   "outputs": [],
   "source": [
    "# Basic Naive Bayes model, using 0.02 alpha and False on fit_prior to maximize accuracy\n",
    "nb = MultinomialNB(alpha = 0.02, fit_prior = False)"
   ]
  },
  {
   "cell_type": "code",
   "execution_count": 227,
   "metadata": {},
   "outputs": [
    {
     "data": {
      "text/plain": [
       "MultinomialNB(alpha=0.02, fit_prior=False)"
      ]
     },
     "execution_count": 227,
     "metadata": {},
     "output_type": "execute_result"
    }
   ],
   "source": [
    "# Fitting model\n",
    "nb.fit(X_train_cv, y_train)"
   ]
  },
  {
   "cell_type": "code",
   "execution_count": 102,
   "metadata": {},
   "outputs": [
    {
     "data": {
      "text/plain": [
       "0.8587878787878788"
      ]
     },
     "execution_count": 102,
     "metadata": {},
     "output_type": "execute_result"
    }
   ],
   "source": [
    "# Test score\n",
    "nb.score(X_test_cv, y_test)"
   ]
  },
  {
   "cell_type": "markdown",
   "metadata": {},
   "source": [
    "### Evaluation of Models and Moving Forward"
   ]
  },
  {
   "cell_type": "markdown",
   "metadata": {},
   "source": [
    "To my surprise, the LogisticRegression model was more accurate than the MultinomialNB model. I was surprised because the Naive Bayes model seemed to suit the classification the most on paper, basing its fundamentals on probabilities of training data variables (words within subreddits). However, I think what attributed to the Logistic Regression model's slightly higher accuracy is the focus on the label variables within the train_test_split. In addition, I found that the Naive Bayes model had not as consistent results with multiple tests, with a great range in accuracies. The accuracy overall was surprisingly high for basic model evaluation. A score greater than 85% suggests that the model is highly accurate when predicting subreddit. The score may not have been nearly as high if not predicted from the title of the post, as the titles are likely much more distinct than the contents of the posts themselves.\n",
    "\n",
    "I think moving forward with this project, I could do far more exploration with models and even adjusting the X and y variables, focusing on post within the X and maybe exploring other columns like score. Using more models, like Random Forest and Decision Trees, is definitely something I would like to implement. In addition, increasing the accuracy of the models with GridSearchCV and pipelines is something I wanted to do. Finally, displaying a confusion matrix after implementing a GridSearch would be great to visualize the predicted labels."
   ]
  },
  {
   "cell_type": "markdown",
   "metadata": {},
   "source": [
    "## Conclusions and Recommendations"
   ]
  },
  {
   "cell_type": "markdown",
   "metadata": {},
   "source": [
    "Logistic Regression is the most accurate model tested, sporting roughly an **89%** accuracy. While not included in this notebook, testing the same type of model multiple times led to differing accuracies, so creating multiple models with slight tweaks could be used to maximize accuracy. CountVectorizer automates a large portion of the manual cleaning I did without reducing accuracy. I'd recommend adding more features to the API and to models to strengthen accuracy as well as potential for modeling."
   ]
  },
  {
   "cell_type": "markdown",
   "metadata": {},
   "source": [
    "Outside sources: \n",
    "https://gist.github.com/MrEliptik/b3f16179aa2f530781ef8ca9a16499af\n",
    "https://www.datacamp.com/community/tutorials/wordcloud-python\n",
    "https://www.reddit.com/r/anime\n",
    "https://www.reddit.com/r/manga"
   ]
  }
 ],
 "metadata": {
  "kernelspec": {
   "display_name": "Python 3",
   "language": "python",
   "name": "python3"
  },
  "language_info": {
   "codemirror_mode": {
    "name": "ipython",
    "version": 3
   },
   "file_extension": ".py",
   "mimetype": "text/x-python",
   "name": "python",
   "nbconvert_exporter": "python",
   "pygments_lexer": "ipython3",
   "version": "3.8.3"
  }
 },
 "nbformat": 4,
 "nbformat_minor": 4
}
